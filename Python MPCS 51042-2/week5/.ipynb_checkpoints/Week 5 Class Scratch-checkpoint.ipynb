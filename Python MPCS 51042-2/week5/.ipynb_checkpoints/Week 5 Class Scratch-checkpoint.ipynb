{
 "cells": [
  {
   "cell_type": "code",
   "execution_count": null,
   "metadata": {
    "collapsed": true
   },
   "outputs": [],
   "source": [
    "# at the end of the block the file is automatically closed\n",
    "# ie you don't have to do a f.close() and worry about files not getting closed if things break\n",
    "with open (...) as f:\n",
    "\t\tf.readline()\n",
    "\t\t...\n",
    "\n",
    "#\n",
    "with lock:\n",
    "\tx += 1\n",
    "\n",
    "# the finally statement will execute no matter what errors you get\n",
    "try:\n",
    "\tf = open('data.csv', 'r')\n",
    "\t# do some work with the file\n",
    "finally:\n",
    "\tf.close()\n",
    "\n",
    "#example of using with to not require the finally clause\n",
    "# variable f will still exist outside the scope, but is closed\n",
    "# so if you want to reopen the file, you will need to open it again\n",
    "# for more info, look at the standard library at docs.python.org\n",
    "with open('data.csv', 'r') as f:\n",
    "\t#do some work with the file\n",
    "\n",
    "# Context managers require that a class have two defined methods:\n",
    "__enter__()\n",
    "__exit__()\n",
    "\n",
    "with obj as:\n",
    "\t...\n",
    "# is roughly equivalent to\n",
    "try:\n",
    "\tx = obj.__enter__()\n",
    "\t...\n",
    "finally\n",
    "\tobj.__exit__()\n",
    "\n",
    "# usually takes no arguments and returs self\n",
    "__enter__() \n",
    "\n",
    "# decimal allows to you to go more precise than float\n",
    "from math import pi\n",
    "print(pi)\n",
    "# vs\n",
    "from decimal import Decimal, localcontext\n",
    "\n",
    "with localcontext() as ctx:\n",
    "\tctx.prec = 100\n",
    "\td = Decimal('1')/Decimal('7')\n",
    "\tprint(d)\n",
    "\t# get 100 points of precision"
   ]
  },
  {
   "cell_type": "code",
   "execution_count": 1,
   "metadata": {
    "collapsed": true
   },
   "outputs": [],
   "source": [
    "# use with statement when opening files\n",
    "# consider implementing a context manager if you have a typical acquire/release resource pattern\n",
    "# with is also useful to indicate temporary change in 'context' as in the decimal example\n",
    "# standard library also has a few tools in the contextlib library for making with statements easier"
   ]
  },
  {
   "cell_type": "code",
   "execution_count": null,
   "metadata": {
    "collapsed": true
   },
   "outputs": [],
   "source": []
  }
 ],
 "metadata": {
  "anaconda-cloud": {},
  "kernelspec": {
   "display_name": "Python [Root]",
   "language": "python",
   "name": "Python [Root]"
  },
  "language_info": {
   "codemirror_mode": {
    "name": "ipython",
    "version": 3
   },
   "file_extension": ".py",
   "mimetype": "text/x-python",
   "name": "python",
   "nbconvert_exporter": "python",
   "pygments_lexer": "ipython3",
   "version": "3.5.2"
  }
 },
 "nbformat": 4,
 "nbformat_minor": 0
}
