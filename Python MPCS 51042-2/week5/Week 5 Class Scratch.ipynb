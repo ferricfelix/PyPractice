{
 "cells": [
  {
   "cell_type": "code",
   "execution_count": null,
   "metadata": {
    "collapsed": true
   },
   "outputs": [],
   "source": [
    "# at the end of the block the file is automatically closed\n",
    "# ie you don't have to do a f.close() and worry about files not getting closed if things break\n",
    "with open (...) as f:\n",
    "\t\tf.readline()\n",
    "\t\t...\n",
    "\n",
    "#\n",
    "with lock:\n",
    "\tx += 1\n",
    "\n",
    "# the finally statement will execute no matter what errors you get\n",
    "try:\n",
    "\tf = open('data.csv', 'r')\n",
    "\t# do some work with the file\n",
    "finally:\n",
    "\tf.close()\n",
    "\n",
    "#example of using with to not require the finally clause\n",
    "# variable f will still exist outside the scope, but is closed\n",
    "# so if you want to reopen the file, you will need to open it again\n",
    "# for more info, look at the standard library at docs.python.org\n",
    "with open('data.csv', 'r') as f:\n",
    "\t#do some work with the file\n",
    "\n",
    "# Context managers require that a class have two defined methods:\n",
    "__enter__()\n",
    "__exit__()\n",
    "\n",
    "with obj as:\n",
    "\t...\n",
    "# is roughly equivalent to\n",
    "try:\n",
    "\tx = obj.__enter__()\n",
    "\t...\n",
    "finally\n",
    "\tobj.__exit__()\n",
    "\n",
    "# usually takes no arguments and returs self\n",
    "__enter__() \n",
    "\n",
    "# decimal allows to you to go more precise than float\n",
    "from math import pi\n",
    "print(pi)\n",
    "# vs\n",
    "from decimal import Decimal, localcontext\n",
    "\n",
    "with localcontext() as ctx:\n",
    "\tctx.prec = 100\n",
    "\td = Decimal('1')/Decimal('7')\n",
    "\tprint(d)\n",
    "\t# get 100 points of precision"
   ]
  },
  {
   "cell_type": "code",
   "execution_count": 1,
   "metadata": {
    "collapsed": true
   },
   "outputs": [],
   "source": [
    "# use with statement when opening files\n",
    "# consider implementing a context manager if you have a typical acquire/release resource pattern\n",
    "# with is also useful to indicate temporary change in 'context' as in the decimal example\n",
    "# standard library also has a few tools in the contextlib library for making with statements easier"
   ]
  },
  {
   "cell_type": "code",
   "execution_count": 2,
   "metadata": {
    "collapsed": true
   },
   "outputs": [],
   "source": [
    "# Decorators and Dynamic Attributes\n",
    "# This is hard, and most people who write in python have no clue"
   ]
  },
  {
   "cell_type": "code",
   "execution_count": 3,
   "metadata": {
    "collapsed": false
   },
   "outputs": [
    {
     "ename": "SyntaxError",
     "evalue": "unexpected EOF while parsing (<ipython-input-3-232fb5d4a1eb>, line 4)",
     "output_type": "error",
     "traceback": [
      "\u001b[0;36m  File \u001b[0;32m\"<ipython-input-3-232fb5d4a1eb>\"\u001b[0;36m, line \u001b[0;32m4\u001b[0m\n\u001b[0;31m    # the other most common use case is properties\u001b[0m\n\u001b[0m                                                  ^\u001b[0m\n\u001b[0;31mSyntaxError\u001b[0m\u001b[0;31m:\u001b[0m unexpected EOF while parsing\n"
     ]
    }
   ],
   "source": [
    "# we've already seen decorators\n",
    "@classmethod\n",
    "@staticmethod\n",
    "# the other most common use case is properties"
   ]
  },
  {
   "cell_type": "code",
   "execution_count": 4,
   "metadata": {
    "collapsed": true
   },
   "outputs": [],
   "source": [
    "# in many oop languages, classes can have private attributes, in python everything is public by default\n",
    "# common pattern is to create a getter and a setter intead of giving the user direct access to the attribute\n",
    "# for example, if you want to control the way the user interacts with the class or instance or to lock someone\n",
    "# from messing with some static attribute"
   ]
  },
  {
   "cell_type": "code",
   "execution_count": 32,
   "metadata": {
    "collapsed": false
   },
   "outputs": [
    {
     "name": "stdout",
     "output_type": "stream",
     "text": [
      "<__main__.Person object at 0x10643bfd0>\n",
      "b\n",
      "50\n"
     ]
    }
   ],
   "source": [
    "class Person:\n",
    "    def __init__(self, name, age):\n",
    "        self.set_name(name)\n",
    "        self.age = age\n",
    "        \n",
    "    def get_name(self):\n",
    "        return self.name\n",
    "    \n",
    "    \n",
    "    def set_name(self,name):\n",
    "        if isinstance(name, str):\n",
    "            self.name = name\n",
    "        else:\n",
    "            raise ValueError(\"name must be a string\")\n",
    "            \n",
    "bob = Person('b',50)\n",
    "print(bob)\n",
    "print(bob.get_name())\n",
    "print(bob.age)"
   ]
  },
  {
   "cell_type": "markdown",
   "metadata": {},
   "source": [
    "### This is a way to add validation to your methods and hide attributes from the user #"
   ]
  },
  {
   "cell_type": "code",
   "execution_count": 34,
   "metadata": {
    "collapsed": false
   },
   "outputs": [
    {
     "ename": "NameError",
     "evalue": "name 'name' is not defined",
     "output_type": "error",
     "traceback": [
      "\u001b[0;31m---------------------------------------------------------------------------\u001b[0m",
      "\u001b[0;31mNameError\u001b[0m                                 Traceback (most recent call last)",
      "\u001b[0;32m<ipython-input-34-d7bff4c59509>\u001b[0m in \u001b[0;36m<module>\u001b[0;34m()\u001b[0m\n\u001b[1;32m      3\u001b[0m \u001b[0;34m\u001b[0m\u001b[0m\n\u001b[1;32m      4\u001b[0m \u001b[0;34m\u001b[0m\u001b[0m\n\u001b[0;32m----> 5\u001b[0;31m \u001b[0;32mclass\u001b[0m \u001b[0mPerson\u001b[0m\u001b[0;34m:\u001b[0m\u001b[0;34m\u001b[0m\u001b[0m\n\u001b[0m\u001b[1;32m      6\u001b[0m     \u001b[0;32mdef\u001b[0m \u001b[0m__init__\u001b[0m\u001b[0;34m(\u001b[0m\u001b[0mself\u001b[0m\u001b[0;34m,\u001b[0m \u001b[0mname\u001b[0m\u001b[0;34m,\u001b[0m \u001b[0mage\u001b[0m\u001b[0;34m)\u001b[0m\u001b[0;34m:\u001b[0m\u001b[0;34m\u001b[0m\u001b[0m\n\u001b[1;32m      7\u001b[0m \u001b[0;31m# now we're using the property setter in our class constructor, this is really set_name() setter\u001b[0m\u001b[0;34m\u001b[0m\u001b[0;34m\u001b[0m\u001b[0m\n",
      "\u001b[0;32m<ipython-input-34-d7bff4c59509>\u001b[0m in \u001b[0;36mPerson\u001b[0;34m()\u001b[0m\n\u001b[1;32m     14\u001b[0m         \u001b[0;32mreturn\u001b[0m \u001b[0mself\u001b[0m\u001b[0;34m.\u001b[0m\u001b[0m_name\u001b[0m\u001b[0;34m\u001b[0m\u001b[0m\n\u001b[1;32m     15\u001b[0m \u001b[0;34m\u001b[0m\u001b[0m\n\u001b[0;32m---> 16\u001b[0;31m     \u001b[0;34m@\u001b[0m\u001b[0mname\u001b[0m\u001b[0;34m.\u001b[0m\u001b[0msetter\u001b[0m\u001b[0;34m\u001b[0m\u001b[0m\n\u001b[0m\u001b[1;32m     17\u001b[0m     \u001b[0;32mdef\u001b[0m \u001b[0mset_name\u001b[0m\u001b[0;34m(\u001b[0m\u001b[0mself\u001b[0m\u001b[0;34m,\u001b[0m\u001b[0mname\u001b[0m\u001b[0;34m)\u001b[0m\u001b[0;34m:\u001b[0m\u001b[0;34m\u001b[0m\u001b[0m\n\u001b[1;32m     18\u001b[0m         \u001b[0;32mif\u001b[0m \u001b[0misinstance\u001b[0m\u001b[0;34m(\u001b[0m\u001b[0mname\u001b[0m\u001b[0;34m,\u001b[0m \u001b[0mstr\u001b[0m\u001b[0;34m)\u001b[0m\u001b[0;34m:\u001b[0m\u001b[0;34m\u001b[0m\u001b[0m\n",
      "\u001b[0;31mNameError\u001b[0m: name 'name' is not defined"
     ]
    }
   ],
   "source": [
    "\n",
    "\n",
    "\n",
    "\n",
    "class Person:\n",
    "    def __init__(self, name, age):\n",
    "# now we're using the property setter in our class constructor, this is really set_name() setter\n",
    "        self.name = name \n",
    "#         self.set_name(name)\n",
    "        self.age = age\n",
    "#   now it appears as a property of the object, you can get the self._name by just doing b.name instead of b.get_name()\n",
    "    @property    \n",
    "    def get_name(self):\n",
    "        return self._name\n",
    "    \n",
    "    @name.setter\n",
    "    def set_name(self,name):\n",
    "        if isinstance(name, str):\n",
    "            self._name = name\n",
    "        else:\n",
    "            raise ValueError(\"name must be a string\")\n",
    "            \n",
    "    #you can't assign anything to the name_and_age property, it's a computed property\n",
    "    @property\n",
    "    def name_and_age(self):\n",
    "        return (self.name, self.age)\n",
    "    \n",
    "    \n",
    "bob = Person('b', 50)"
   ]
  },
  {
   "cell_type": "code",
   "execution_count": 42,
   "metadata": {
    "collapsed": false
   },
   "outputs": [
    {
     "name": "stdout",
     "output_type": "stream",
     "text": [
      "<__main__.Person object at 0x106174358>\n",
      "b\n"
     ]
    }
   ],
   "source": [
    "class Person:\n",
    "    def __init__(self, name, age):\n",
    "        self._name = name\n",
    "        self._age = age\n",
    "        \n",
    "    def age_setter(self,age):\n",
    "        if age >= 0:\n",
    "            self._age = age\n",
    "        else:\n",
    "            \n",
    "\n",
    "bob = Person('b', 50)\n",
    "print(bob)\n",
    "print(bob._name)\n",
    "lynda = Person('l', -50)"
   ]
  },
  {
   "cell_type": "markdown",
   "metadata": {},
   "source": [
    "a decorator takes a function as an argumetn and return a function\n",
    "need to define an inner function that is returned\n",
    "```Python\n",
    "s = 'string'\n",
    "```"
   ]
  },
  {
   "cell_type": "code",
   "execution_count": 45,
   "metadata": {
    "collapsed": false
   },
   "outputs": [],
   "source": [
    "def count_calls(func):\n",
    "    count = 0\n",
    "    def inner(*args, **kwargs):\n",
    "        nonlocal count\n",
    "        count += 1\n",
    "        print('function was called {} times'.format(count))\n",
    "        return fun(*args, **kwargs)\n",
    "    return inner"
   ]
  },
  {
   "cell_type": "code",
   "execution_count": 48,
   "metadata": {
    "collapsed": false
   },
   "outputs": [
    {
     "name": "stdout",
     "output_type": "stream",
     "text": [
      "3.5.2 |Anaconda 4.1.1 (x86_64)| (default, Jul  2 2016, 17:52:12) \n",
      "[GCC 4.2.1 Compatible Apple LLVM 4.2 (clang-425.0.28)]\n"
     ]
    }
   ],
   "source": [
    "import sys\n",
    "print(sys.version)"
   ]
  },
  {
   "cell_type": "code",
   "execution_count": null,
   "metadata": {
    "collapsed": true
   },
   "outputs": [],
   "source": []
  }
 ],
 "metadata": {
  "anaconda-cloud": {},
  "kernelspec": {
   "display_name": "Python [Root]",
   "language": "python",
   "name": "Python [Root]"
  },
  "language_info": {
   "codemirror_mode": {
    "name": "ipython",
    "version": 3
   },
   "file_extension": ".py",
   "mimetype": "text/x-python",
   "name": "python",
   "nbconvert_exporter": "python",
   "pygments_lexer": "ipython3",
   "version": "3.5.2"
  }
 },
 "nbformat": 4,
 "nbformat_minor": 0
}
